{
 "cells": [
  {
   "cell_type": "code",
   "execution_count": 2,
   "metadata": {},
   "outputs": [
    {
     "name": "stderr",
     "output_type": "stream",
     "text": [
      "c:\\ProgramData\\Anaconda3\\envs\\Capstone_PT_GPU\\lib\\site-packages\\tqdm\\auto.py:22: TqdmWarning: IProgress not found. Please update jupyter and ipywidgets. See https://ipywidgets.readthedocs.io/en/stable/user_install.html\n",
      "  from .autonotebook import tqdm as notebook_tqdm\n"
     ]
    }
   ],
   "source": [
    "from netCDF4 import Dataset\n",
    "import xarray as xr\n",
    "import numpy as np\n",
    "import matplotlib.pyplot as plt\n",
    "import scipy as sp\n",
    "import pandas as pd\n",
    "from tqdm import tqdm\n",
    "import seaborn as sns\n",
    "import torch\n",
    "from torch.utils.data import random_split,DataLoader\n",
    "from torch import nn\n",
    "from PIL import Image\n",
    "from torch.autograd import Variable"
   ]
  },
  {
   "cell_type": "code",
   "execution_count": 3,
   "metadata": {},
   "outputs": [],
   "source": [
    "#define the resolution that you want.\n",
    "shape1=64\n",
    "shape2=72"
   ]
  },
  {
   "cell_type": "code",
   "execution_count": 4,
   "metadata": {},
   "outputs": [],
   "source": [
    "# scale the spec2D array. i.e. reduce the resolution.\n",
    "def scale_array(x,new_size):\n",
    "    min_el = np.min(x)\n",
    "    max_el = np.max(x)\n",
    "    y = np.array(Image.fromarray(x).resize(new_size))\n",
    "    y = y/(max_el-min_el)+min_el\n",
    "    y[y<np.average(y)/4]=0\n",
    "    ymax = np.max(y)\n",
    "    y[y==ymax]=max_el\n",
    "    return y\n"
   ]
  },
  {
   "cell_type": "code",
   "execution_count": 5,
   "metadata": {},
   "outputs": [
    {
     "data": {
      "text/html": [
       "<div><svg style=\"position: absolute; width: 0; height: 0; overflow: hidden\">\n",
       "<defs>\n",
       "<symbol id=\"icon-database\" viewBox=\"0 0 32 32\">\n",
       "<path d=\"M16 0c-8.837 0-16 2.239-16 5v4c0 2.761 7.163 5 16 5s16-2.239 16-5v-4c0-2.761-7.163-5-16-5z\"></path>\n",
       "<path d=\"M16 17c-8.837 0-16-2.239-16-5v6c0 2.761 7.163 5 16 5s16-2.239 16-5v-6c0 2.761-7.163 5-16 5z\"></path>\n",
       "<path d=\"M16 26c-8.837 0-16-2.239-16-5v6c0 2.761 7.163 5 16 5s16-2.239 16-5v-6c0 2.761-7.163 5-16 5z\"></path>\n",
       "</symbol>\n",
       "<symbol id=\"icon-file-text2\" viewBox=\"0 0 32 32\">\n",
       "<path d=\"M28.681 7.159c-0.694-0.947-1.662-2.053-2.724-3.116s-2.169-2.030-3.116-2.724c-1.612-1.182-2.393-1.319-2.841-1.319h-15.5c-1.378 0-2.5 1.121-2.5 2.5v27c0 1.378 1.122 2.5 2.5 2.5h23c1.378 0 2.5-1.122 2.5-2.5v-19.5c0-0.448-0.137-1.23-1.319-2.841zM24.543 5.457c0.959 0.959 1.712 1.825 2.268 2.543h-4.811v-4.811c0.718 0.556 1.584 1.309 2.543 2.268zM28 29.5c0 0.271-0.229 0.5-0.5 0.5h-23c-0.271 0-0.5-0.229-0.5-0.5v-27c0-0.271 0.229-0.5 0.5-0.5 0 0 15.499-0 15.5 0v7c0 0.552 0.448 1 1 1h7v19.5z\"></path>\n",
       "<path d=\"M23 26h-14c-0.552 0-1-0.448-1-1s0.448-1 1-1h14c0.552 0 1 0.448 1 1s-0.448 1-1 1z\"></path>\n",
       "<path d=\"M23 22h-14c-0.552 0-1-0.448-1-1s0.448-1 1-1h14c0.552 0 1 0.448 1 1s-0.448 1-1 1z\"></path>\n",
       "<path d=\"M23 18h-14c-0.552 0-1-0.448-1-1s0.448-1 1-1h14c0.552 0 1 0.448 1 1s-0.448 1-1 1z\"></path>\n",
       "</symbol>\n",
       "</defs>\n",
       "</svg>\n",
       "<style>/* CSS stylesheet for displaying xarray objects in jupyterlab.\n",
       " *\n",
       " */\n",
       "\n",
       ":root {\n",
       "  --xr-font-color0: var(--jp-content-font-color0, rgba(0, 0, 0, 1));\n",
       "  --xr-font-color2: var(--jp-content-font-color2, rgba(0, 0, 0, 0.54));\n",
       "  --xr-font-color3: var(--jp-content-font-color3, rgba(0, 0, 0, 0.38));\n",
       "  --xr-border-color: var(--jp-border-color2, #e0e0e0);\n",
       "  --xr-disabled-color: var(--jp-layout-color3, #bdbdbd);\n",
       "  --xr-background-color: var(--jp-layout-color0, white);\n",
       "  --xr-background-color-row-even: var(--jp-layout-color1, white);\n",
       "  --xr-background-color-row-odd: var(--jp-layout-color2, #eeeeee);\n",
       "}\n",
       "\n",
       "html[theme=dark],\n",
       "body[data-theme=dark],\n",
       "body.vscode-dark {\n",
       "  --xr-font-color0: rgba(255, 255, 255, 1);\n",
       "  --xr-font-color2: rgba(255, 255, 255, 0.54);\n",
       "  --xr-font-color3: rgba(255, 255, 255, 0.38);\n",
       "  --xr-border-color: #1F1F1F;\n",
       "  --xr-disabled-color: #515151;\n",
       "  --xr-background-color: #111111;\n",
       "  --xr-background-color-row-even: #111111;\n",
       "  --xr-background-color-row-odd: #313131;\n",
       "}\n",
       "\n",
       ".xr-wrap {\n",
       "  display: block !important;\n",
       "  min-width: 300px;\n",
       "  max-width: 700px;\n",
       "}\n",
       "\n",
       ".xr-text-repr-fallback {\n",
       "  /* fallback to plain text repr when CSS is not injected (untrusted notebook) */\n",
       "  display: none;\n",
       "}\n",
       "\n",
       ".xr-header {\n",
       "  padding-top: 6px;\n",
       "  padding-bottom: 6px;\n",
       "  margin-bottom: 4px;\n",
       "  border-bottom: solid 1px var(--xr-border-color);\n",
       "}\n",
       "\n",
       ".xr-header > div,\n",
       ".xr-header > ul {\n",
       "  display: inline;\n",
       "  margin-top: 0;\n",
       "  margin-bottom: 0;\n",
       "}\n",
       "\n",
       ".xr-obj-type,\n",
       ".xr-array-name {\n",
       "  margin-left: 2px;\n",
       "  margin-right: 10px;\n",
       "}\n",
       "\n",
       ".xr-obj-type {\n",
       "  color: var(--xr-font-color2);\n",
       "}\n",
       "\n",
       ".xr-sections {\n",
       "  padding-left: 0 !important;\n",
       "  display: grid;\n",
       "  grid-template-columns: 150px auto auto 1fr 20px 20px;\n",
       "}\n",
       "\n",
       ".xr-section-item {\n",
       "  display: contents;\n",
       "}\n",
       "\n",
       ".xr-section-item input {\n",
       "  display: none;\n",
       "}\n",
       "\n",
       ".xr-section-item input + label {\n",
       "  color: var(--xr-disabled-color);\n",
       "}\n",
       "\n",
       ".xr-section-item input:enabled + label {\n",
       "  cursor: pointer;\n",
       "  color: var(--xr-font-color2);\n",
       "}\n",
       "\n",
       ".xr-section-item input:enabled + label:hover {\n",
       "  color: var(--xr-font-color0);\n",
       "}\n",
       "\n",
       ".xr-section-summary {\n",
       "  grid-column: 1;\n",
       "  color: var(--xr-font-color2);\n",
       "  font-weight: 500;\n",
       "}\n",
       "\n",
       ".xr-section-summary > span {\n",
       "  display: inline-block;\n",
       "  padding-left: 0.5em;\n",
       "}\n",
       "\n",
       ".xr-section-summary-in:disabled + label {\n",
       "  color: var(--xr-font-color2);\n",
       "}\n",
       "\n",
       ".xr-section-summary-in + label:before {\n",
       "  display: inline-block;\n",
       "  content: '►';\n",
       "  font-size: 11px;\n",
       "  width: 15px;\n",
       "  text-align: center;\n",
       "}\n",
       "\n",
       ".xr-section-summary-in:disabled + label:before {\n",
       "  color: var(--xr-disabled-color);\n",
       "}\n",
       "\n",
       ".xr-section-summary-in:checked + label:before {\n",
       "  content: '▼';\n",
       "}\n",
       "\n",
       ".xr-section-summary-in:checked + label > span {\n",
       "  display: none;\n",
       "}\n",
       "\n",
       ".xr-section-summary,\n",
       ".xr-section-inline-details {\n",
       "  padding-top: 4px;\n",
       "  padding-bottom: 4px;\n",
       "}\n",
       "\n",
       ".xr-section-inline-details {\n",
       "  grid-column: 2 / -1;\n",
       "}\n",
       "\n",
       ".xr-section-details {\n",
       "  display: none;\n",
       "  grid-column: 1 / -1;\n",
       "  margin-bottom: 5px;\n",
       "}\n",
       "\n",
       ".xr-section-summary-in:checked ~ .xr-section-details {\n",
       "  display: contents;\n",
       "}\n",
       "\n",
       ".xr-array-wrap {\n",
       "  grid-column: 1 / -1;\n",
       "  display: grid;\n",
       "  grid-template-columns: 20px auto;\n",
       "}\n",
       "\n",
       ".xr-array-wrap > label {\n",
       "  grid-column: 1;\n",
       "  vertical-align: top;\n",
       "}\n",
       "\n",
       ".xr-preview {\n",
       "  color: var(--xr-font-color3);\n",
       "}\n",
       "\n",
       ".xr-array-preview,\n",
       ".xr-array-data {\n",
       "  padding: 0 5px !important;\n",
       "  grid-column: 2;\n",
       "}\n",
       "\n",
       ".xr-array-data,\n",
       ".xr-array-in:checked ~ .xr-array-preview {\n",
       "  display: none;\n",
       "}\n",
       "\n",
       ".xr-array-in:checked ~ .xr-array-data,\n",
       ".xr-array-preview {\n",
       "  display: inline-block;\n",
       "}\n",
       "\n",
       ".xr-dim-list {\n",
       "  display: inline-block !important;\n",
       "  list-style: none;\n",
       "  padding: 0 !important;\n",
       "  margin: 0;\n",
       "}\n",
       "\n",
       ".xr-dim-list li {\n",
       "  display: inline-block;\n",
       "  padding: 0;\n",
       "  margin: 0;\n",
       "}\n",
       "\n",
       ".xr-dim-list:before {\n",
       "  content: '(';\n",
       "}\n",
       "\n",
       ".xr-dim-list:after {\n",
       "  content: ')';\n",
       "}\n",
       "\n",
       ".xr-dim-list li:not(:last-child):after {\n",
       "  content: ',';\n",
       "  padding-right: 5px;\n",
       "}\n",
       "\n",
       ".xr-has-index {\n",
       "  font-weight: bold;\n",
       "}\n",
       "\n",
       ".xr-var-list,\n",
       ".xr-var-item {\n",
       "  display: contents;\n",
       "}\n",
       "\n",
       ".xr-var-item > div,\n",
       ".xr-var-item label,\n",
       ".xr-var-item > .xr-var-name span {\n",
       "  background-color: var(--xr-background-color-row-even);\n",
       "  margin-bottom: 0;\n",
       "}\n",
       "\n",
       ".xr-var-item > .xr-var-name:hover span {\n",
       "  padding-right: 5px;\n",
       "}\n",
       "\n",
       ".xr-var-list > li:nth-child(odd) > div,\n",
       ".xr-var-list > li:nth-child(odd) > label,\n",
       ".xr-var-list > li:nth-child(odd) > .xr-var-name span {\n",
       "  background-color: var(--xr-background-color-row-odd);\n",
       "}\n",
       "\n",
       ".xr-var-name {\n",
       "  grid-column: 1;\n",
       "}\n",
       "\n",
       ".xr-var-dims {\n",
       "  grid-column: 2;\n",
       "}\n",
       "\n",
       ".xr-var-dtype {\n",
       "  grid-column: 3;\n",
       "  text-align: right;\n",
       "  color: var(--xr-font-color2);\n",
       "}\n",
       "\n",
       ".xr-var-preview {\n",
       "  grid-column: 4;\n",
       "}\n",
       "\n",
       ".xr-var-name,\n",
       ".xr-var-dims,\n",
       ".xr-var-dtype,\n",
       ".xr-preview,\n",
       ".xr-attrs dt {\n",
       "  white-space: nowrap;\n",
       "  overflow: hidden;\n",
       "  text-overflow: ellipsis;\n",
       "  padding-right: 10px;\n",
       "}\n",
       "\n",
       ".xr-var-name:hover,\n",
       ".xr-var-dims:hover,\n",
       ".xr-var-dtype:hover,\n",
       ".xr-attrs dt:hover {\n",
       "  overflow: visible;\n",
       "  width: auto;\n",
       "  z-index: 1;\n",
       "}\n",
       "\n",
       ".xr-var-attrs,\n",
       ".xr-var-data {\n",
       "  display: none;\n",
       "  background-color: var(--xr-background-color) !important;\n",
       "  padding-bottom: 5px !important;\n",
       "}\n",
       "\n",
       ".xr-var-attrs-in:checked ~ .xr-var-attrs,\n",
       ".xr-var-data-in:checked ~ .xr-var-data {\n",
       "  display: block;\n",
       "}\n",
       "\n",
       ".xr-var-data > table {\n",
       "  float: right;\n",
       "}\n",
       "\n",
       ".xr-var-name span,\n",
       ".xr-var-data,\n",
       ".xr-attrs {\n",
       "  padding-left: 25px !important;\n",
       "}\n",
       "\n",
       ".xr-attrs,\n",
       ".xr-var-attrs,\n",
       ".xr-var-data {\n",
       "  grid-column: 1 / -1;\n",
       "}\n",
       "\n",
       "dl.xr-attrs {\n",
       "  padding: 0;\n",
       "  margin: 0;\n",
       "  display: grid;\n",
       "  grid-template-columns: 125px auto;\n",
       "}\n",
       "\n",
       ".xr-attrs dt,\n",
       ".xr-attrs dd {\n",
       "  padding: 0;\n",
       "  margin: 0;\n",
       "  float: left;\n",
       "  padding-right: 10px;\n",
       "  width: auto;\n",
       "}\n",
       "\n",
       ".xr-attrs dt {\n",
       "  font-weight: normal;\n",
       "  grid-column: 1;\n",
       "}\n",
       "\n",
       ".xr-attrs dt:hover span {\n",
       "  display: inline-block;\n",
       "  background: var(--xr-background-color);\n",
       "  padding-right: 10px;\n",
       "}\n",
       "\n",
       ".xr-attrs dd {\n",
       "  grid-column: 2;\n",
       "  white-space: pre-wrap;\n",
       "  word-break: break-all;\n",
       "}\n",
       "\n",
       ".xr-icon-database,\n",
       ".xr-icon-file-text2 {\n",
       "  display: inline-block;\n",
       "  vertical-align: middle;\n",
       "  width: 1em;\n",
       "  height: 1.5em !important;\n",
       "  stroke-width: 0;\n",
       "  stroke: currentColor;\n",
       "  fill: currentColor;\n",
       "}\n",
       "</style><pre class='xr-text-repr-fallback'>&lt;xarray.Dataset&gt;\n",
       "Dimensions:    (time: 1001, freq: 64, dir: 72)\n",
       "Coordinates:\n",
       "  * time       (time) float32 9.969e+36 9.969e+36 ... 9.969e+36 9.969e+36\n",
       "  * freq       (freq) float32 9.969e+36 9.969e+36 ... 9.969e+36 9.969e+36\n",
       "  * dir        (dir) float32 9.969e+36 9.969e+36 ... 9.969e+36 9.969e+36\n",
       "Data variables:\n",
       "    cott2D     (time, freq, dir) float32 ...\n",
       "    cott2D05   (time, freq, dir) float32 ...\n",
       "    rott2Dm1   (time, freq, dir) float32 ...\n",
       "    rott2Dm15  (time, freq, dir) float32 ...\n",
       "    cape2Dm25  (time, freq, dir) float32 ...\n",
       "    cape2Dm3   (time, freq, dir) float32 ...\n",
       "    cott2Dm05  (time, freq, dir) float32 ...\n",
       "    cott2Dm1   (time, freq, dir) float32 ...</pre><div class='xr-wrap' style='display:none'><div class='xr-header'><div class='xr-obj-type'>xarray.Dataset</div></div><ul class='xr-sections'><li class='xr-section-item'><input id='section-92071e93-8e7b-42a0-a661-cd48438806b6' class='xr-section-summary-in' type='checkbox' disabled ><label for='section-92071e93-8e7b-42a0-a661-cd48438806b6' class='xr-section-summary'  title='Expand/collapse section'>Dimensions:</label><div class='xr-section-inline-details'><ul class='xr-dim-list'><li><span class='xr-has-index'>time</span>: 1001</li><li><span class='xr-has-index'>freq</span>: 64</li><li><span class='xr-has-index'>dir</span>: 72</li></ul></div><div class='xr-section-details'></div></li><li class='xr-section-item'><input id='section-303f7ac8-3e2d-44ba-9ead-a07813330daf' class='xr-section-summary-in' type='checkbox'  checked><label for='section-303f7ac8-3e2d-44ba-9ead-a07813330daf' class='xr-section-summary' >Coordinates: <span>(3)</span></label><div class='xr-section-inline-details'></div><div class='xr-section-details'><ul class='xr-var-list'><li class='xr-var-item'><div class='xr-var-name'><span class='xr-has-index'>time</span></div><div class='xr-var-dims'>(time)</div><div class='xr-var-dtype'>float32</div><div class='xr-var-preview xr-preview'>9.969e+36 9.969e+36 ... 9.969e+36</div><input id='attrs-e97f8232-39ee-4851-93d8-6af4fc79c490' class='xr-var-attrs-in' type='checkbox' disabled><label for='attrs-e97f8232-39ee-4851-93d8-6af4fc79c490' title='Show/Hide attributes'><svg class='icon xr-icon-file-text2'><use xlink:href='#icon-file-text2'></use></svg></label><input id='data-8ceeb88e-a4fc-41ab-ab8b-2f0a553c010d' class='xr-var-data-in' type='checkbox'><label for='data-8ceeb88e-a4fc-41ab-ab8b-2f0a553c010d' title='Show/Hide data repr'><svg class='icon xr-icon-database'><use xlink:href='#icon-database'></use></svg></label><div class='xr-var-attrs'><dl class='xr-attrs'></dl></div><div class='xr-var-data'><pre>array([9.96921e+36, 9.96921e+36, 9.96921e+36, ..., 9.96921e+36, 9.96921e+36,\n",
       "       9.96921e+36], dtype=float32)</pre></div></li><li class='xr-var-item'><div class='xr-var-name'><span class='xr-has-index'>freq</span></div><div class='xr-var-dims'>(freq)</div><div class='xr-var-dtype'>float32</div><div class='xr-var-preview xr-preview'>9.969e+36 9.969e+36 ... 9.969e+36</div><input id='attrs-5e722f62-426e-47f4-a721-d0f334a222bd' class='xr-var-attrs-in' type='checkbox' disabled><label for='attrs-5e722f62-426e-47f4-a721-d0f334a222bd' title='Show/Hide attributes'><svg class='icon xr-icon-file-text2'><use xlink:href='#icon-file-text2'></use></svg></label><input id='data-7f31b271-b040-4632-865b-3cd789fb6ac7' class='xr-var-data-in' type='checkbox'><label for='data-7f31b271-b040-4632-865b-3cd789fb6ac7' title='Show/Hide data repr'><svg class='icon xr-icon-database'><use xlink:href='#icon-database'></use></svg></label><div class='xr-var-attrs'><dl class='xr-attrs'></dl></div><div class='xr-var-data'><pre>array([9.96921e+36, 9.96921e+36, 9.96921e+36, 9.96921e+36, 9.96921e+36,\n",
       "       9.96921e+36, 9.96921e+36, 9.96921e+36, 9.96921e+36, 9.96921e+36,\n",
       "       9.96921e+36, 9.96921e+36, 9.96921e+36, 9.96921e+36, 9.96921e+36,\n",
       "       9.96921e+36, 9.96921e+36, 9.96921e+36, 9.96921e+36, 9.96921e+36,\n",
       "       9.96921e+36, 9.96921e+36, 9.96921e+36, 9.96921e+36, 9.96921e+36,\n",
       "       9.96921e+36, 9.96921e+36, 9.96921e+36, 9.96921e+36, 9.96921e+36,\n",
       "       9.96921e+36, 9.96921e+36, 9.96921e+36, 9.96921e+36, 9.96921e+36,\n",
       "       9.96921e+36, 9.96921e+36, 9.96921e+36, 9.96921e+36, 9.96921e+36,\n",
       "       9.96921e+36, 9.96921e+36, 9.96921e+36, 9.96921e+36, 9.96921e+36,\n",
       "       9.96921e+36, 9.96921e+36, 9.96921e+36, 9.96921e+36, 9.96921e+36,\n",
       "       9.96921e+36, 9.96921e+36, 9.96921e+36, 9.96921e+36, 9.96921e+36,\n",
       "       9.96921e+36, 9.96921e+36, 9.96921e+36, 9.96921e+36, 9.96921e+36,\n",
       "       9.96921e+36, 9.96921e+36, 9.96921e+36, 9.96921e+36], dtype=float32)</pre></div></li><li class='xr-var-item'><div class='xr-var-name'><span class='xr-has-index'>dir</span></div><div class='xr-var-dims'>(dir)</div><div class='xr-var-dtype'>float32</div><div class='xr-var-preview xr-preview'>9.969e+36 9.969e+36 ... 9.969e+36</div><input id='attrs-aa6a3407-b732-45e4-a581-5c6f27f29e51' class='xr-var-attrs-in' type='checkbox' disabled><label for='attrs-aa6a3407-b732-45e4-a581-5c6f27f29e51' title='Show/Hide attributes'><svg class='icon xr-icon-file-text2'><use xlink:href='#icon-file-text2'></use></svg></label><input id='data-61e6c755-b566-4686-b15b-b87c51982aaa' class='xr-var-data-in' type='checkbox'><label for='data-61e6c755-b566-4686-b15b-b87c51982aaa' title='Show/Hide data repr'><svg class='icon xr-icon-database'><use xlink:href='#icon-database'></use></svg></label><div class='xr-var-attrs'><dl class='xr-attrs'></dl></div><div class='xr-var-data'><pre>array([9.96921e+36, 9.96921e+36, 9.96921e+36, 9.96921e+36, 9.96921e+36,\n",
       "       9.96921e+36, 9.96921e+36, 9.96921e+36, 9.96921e+36, 9.96921e+36,\n",
       "       9.96921e+36, 9.96921e+36, 9.96921e+36, 9.96921e+36, 9.96921e+36,\n",
       "       9.96921e+36, 9.96921e+36, 9.96921e+36, 9.96921e+36, 9.96921e+36,\n",
       "       9.96921e+36, 9.96921e+36, 9.96921e+36, 9.96921e+36, 9.96921e+36,\n",
       "       9.96921e+36, 9.96921e+36, 9.96921e+36, 9.96921e+36, 9.96921e+36,\n",
       "       9.96921e+36, 9.96921e+36, 9.96921e+36, 9.96921e+36, 9.96921e+36,\n",
       "       9.96921e+36, 9.96921e+36, 9.96921e+36, 9.96921e+36, 9.96921e+36,\n",
       "       9.96921e+36, 9.96921e+36, 9.96921e+36, 9.96921e+36, 9.96921e+36,\n",
       "       9.96921e+36, 9.96921e+36, 9.96921e+36, 9.96921e+36, 9.96921e+36,\n",
       "       9.96921e+36, 9.96921e+36, 9.96921e+36, 9.96921e+36, 9.96921e+36,\n",
       "       9.96921e+36, 9.96921e+36, 9.96921e+36, 9.96921e+36, 9.96921e+36,\n",
       "       9.96921e+36, 9.96921e+36, 9.96921e+36, 9.96921e+36, 9.96921e+36,\n",
       "       9.96921e+36, 9.96921e+36, 9.96921e+36, 9.96921e+36, 9.96921e+36,\n",
       "       9.96921e+36, 9.96921e+36], dtype=float32)</pre></div></li></ul></div></li><li class='xr-section-item'><input id='section-01ccca70-777b-436a-af5d-1d7d9e14a4ec' class='xr-section-summary-in' type='checkbox'  checked><label for='section-01ccca70-777b-436a-af5d-1d7d9e14a4ec' class='xr-section-summary' >Data variables: <span>(8)</span></label><div class='xr-section-inline-details'></div><div class='xr-section-details'><ul class='xr-var-list'><li class='xr-var-item'><div class='xr-var-name'><span>cott2D</span></div><div class='xr-var-dims'>(time, freq, dir)</div><div class='xr-var-dtype'>float32</div><div class='xr-var-preview xr-preview'>...</div><input id='attrs-19e81f22-1333-4cd7-9c33-71550072e58e' class='xr-var-attrs-in' type='checkbox' disabled><label for='attrs-19e81f22-1333-4cd7-9c33-71550072e58e' title='Show/Hide attributes'><svg class='icon xr-icon-file-text2'><use xlink:href='#icon-file-text2'></use></svg></label><input id='data-e49a0f86-64dc-415e-a60e-28807a2e3492' class='xr-var-data-in' type='checkbox'><label for='data-e49a0f86-64dc-415e-a60e-28807a2e3492' title='Show/Hide data repr'><svg class='icon xr-icon-database'><use xlink:href='#icon-database'></use></svg></label><div class='xr-var-attrs'><dl class='xr-attrs'></dl></div><div class='xr-var-data'><pre>[4612608 values with dtype=float32]</pre></div></li><li class='xr-var-item'><div class='xr-var-name'><span>cott2D05</span></div><div class='xr-var-dims'>(time, freq, dir)</div><div class='xr-var-dtype'>float32</div><div class='xr-var-preview xr-preview'>...</div><input id='attrs-b1ec5011-b103-4be9-8fdc-9ac5127443f5' class='xr-var-attrs-in' type='checkbox' disabled><label for='attrs-b1ec5011-b103-4be9-8fdc-9ac5127443f5' title='Show/Hide attributes'><svg class='icon xr-icon-file-text2'><use xlink:href='#icon-file-text2'></use></svg></label><input id='data-3594adf9-b679-43a7-80d8-675281b35e7e' class='xr-var-data-in' type='checkbox'><label for='data-3594adf9-b679-43a7-80d8-675281b35e7e' title='Show/Hide data repr'><svg class='icon xr-icon-database'><use xlink:href='#icon-database'></use></svg></label><div class='xr-var-attrs'><dl class='xr-attrs'></dl></div><div class='xr-var-data'><pre>[4612608 values with dtype=float32]</pre></div></li><li class='xr-var-item'><div class='xr-var-name'><span>rott2Dm1</span></div><div class='xr-var-dims'>(time, freq, dir)</div><div class='xr-var-dtype'>float32</div><div class='xr-var-preview xr-preview'>...</div><input id='attrs-509dfcfb-db54-425a-96f6-75938f235293' class='xr-var-attrs-in' type='checkbox' disabled><label for='attrs-509dfcfb-db54-425a-96f6-75938f235293' title='Show/Hide attributes'><svg class='icon xr-icon-file-text2'><use xlink:href='#icon-file-text2'></use></svg></label><input id='data-37ca8ac2-d5f7-40dd-b58e-405914929b4a' class='xr-var-data-in' type='checkbox'><label for='data-37ca8ac2-d5f7-40dd-b58e-405914929b4a' title='Show/Hide data repr'><svg class='icon xr-icon-database'><use xlink:href='#icon-database'></use></svg></label><div class='xr-var-attrs'><dl class='xr-attrs'></dl></div><div class='xr-var-data'><pre>[4612608 values with dtype=float32]</pre></div></li><li class='xr-var-item'><div class='xr-var-name'><span>rott2Dm15</span></div><div class='xr-var-dims'>(time, freq, dir)</div><div class='xr-var-dtype'>float32</div><div class='xr-var-preview xr-preview'>...</div><input id='attrs-8f863327-71d3-4770-b1ea-760a06d84d72' class='xr-var-attrs-in' type='checkbox' disabled><label for='attrs-8f863327-71d3-4770-b1ea-760a06d84d72' title='Show/Hide attributes'><svg class='icon xr-icon-file-text2'><use xlink:href='#icon-file-text2'></use></svg></label><input id='data-6cd59597-320d-4928-95e9-0b69d61d3d5f' class='xr-var-data-in' type='checkbox'><label for='data-6cd59597-320d-4928-95e9-0b69d61d3d5f' title='Show/Hide data repr'><svg class='icon xr-icon-database'><use xlink:href='#icon-database'></use></svg></label><div class='xr-var-attrs'><dl class='xr-attrs'></dl></div><div class='xr-var-data'><pre>[4612608 values with dtype=float32]</pre></div></li><li class='xr-var-item'><div class='xr-var-name'><span>cape2Dm25</span></div><div class='xr-var-dims'>(time, freq, dir)</div><div class='xr-var-dtype'>float32</div><div class='xr-var-preview xr-preview'>...</div><input id='attrs-6762f18a-9fbf-4248-b22e-91a4418d3e7f' class='xr-var-attrs-in' type='checkbox' disabled><label for='attrs-6762f18a-9fbf-4248-b22e-91a4418d3e7f' title='Show/Hide attributes'><svg class='icon xr-icon-file-text2'><use xlink:href='#icon-file-text2'></use></svg></label><input id='data-f05c2e13-3885-4f22-90d0-6f8d22e046cd' class='xr-var-data-in' type='checkbox'><label for='data-f05c2e13-3885-4f22-90d0-6f8d22e046cd' title='Show/Hide data repr'><svg class='icon xr-icon-database'><use xlink:href='#icon-database'></use></svg></label><div class='xr-var-attrs'><dl class='xr-attrs'></dl></div><div class='xr-var-data'><pre>[4612608 values with dtype=float32]</pre></div></li><li class='xr-var-item'><div class='xr-var-name'><span>cape2Dm3</span></div><div class='xr-var-dims'>(time, freq, dir)</div><div class='xr-var-dtype'>float32</div><div class='xr-var-preview xr-preview'>...</div><input id='attrs-8129f124-bed4-4f9c-b19a-4900eafe5307' class='xr-var-attrs-in' type='checkbox' disabled><label for='attrs-8129f124-bed4-4f9c-b19a-4900eafe5307' title='Show/Hide attributes'><svg class='icon xr-icon-file-text2'><use xlink:href='#icon-file-text2'></use></svg></label><input id='data-33dd2b34-793e-428e-ba41-6f8964c87578' class='xr-var-data-in' type='checkbox'><label for='data-33dd2b34-793e-428e-ba41-6f8964c87578' title='Show/Hide data repr'><svg class='icon xr-icon-database'><use xlink:href='#icon-database'></use></svg></label><div class='xr-var-attrs'><dl class='xr-attrs'></dl></div><div class='xr-var-data'><pre>[4612608 values with dtype=float32]</pre></div></li><li class='xr-var-item'><div class='xr-var-name'><span>cott2Dm05</span></div><div class='xr-var-dims'>(time, freq, dir)</div><div class='xr-var-dtype'>float32</div><div class='xr-var-preview xr-preview'>...</div><input id='attrs-f8f17e6c-e0ac-45a9-bf31-ce4420de1c12' class='xr-var-attrs-in' type='checkbox' disabled><label for='attrs-f8f17e6c-e0ac-45a9-bf31-ce4420de1c12' title='Show/Hide attributes'><svg class='icon xr-icon-file-text2'><use xlink:href='#icon-file-text2'></use></svg></label><input id='data-ada38390-a544-44a4-96f0-c2dbb285e6bf' class='xr-var-data-in' type='checkbox'><label for='data-ada38390-a544-44a4-96f0-c2dbb285e6bf' title='Show/Hide data repr'><svg class='icon xr-icon-database'><use xlink:href='#icon-database'></use></svg></label><div class='xr-var-attrs'><dl class='xr-attrs'></dl></div><div class='xr-var-data'><pre>[4612608 values with dtype=float32]</pre></div></li><li class='xr-var-item'><div class='xr-var-name'><span>cott2Dm1</span></div><div class='xr-var-dims'>(time, freq, dir)</div><div class='xr-var-dtype'>float32</div><div class='xr-var-preview xr-preview'>...</div><input id='attrs-b38542ea-5705-4736-a8cf-f7ba6cc4acca' class='xr-var-attrs-in' type='checkbox' disabled><label for='attrs-b38542ea-5705-4736-a8cf-f7ba6cc4acca' title='Show/Hide attributes'><svg class='icon xr-icon-file-text2'><use xlink:href='#icon-file-text2'></use></svg></label><input id='data-64df9e39-8922-485e-a860-5fa0aee30621' class='xr-var-data-in' type='checkbox'><label for='data-64df9e39-8922-485e-a860-5fa0aee30621' title='Show/Hide data repr'><svg class='icon xr-icon-database'><use xlink:href='#icon-database'></use></svg></label><div class='xr-var-attrs'><dl class='xr-attrs'></dl></div><div class='xr-var-data'><pre>[4612608 values with dtype=float32]</pre></div></li></ul></div></li><li class='xr-section-item'><input id='section-91ac5c05-f6d3-4db1-8159-c63d3cce2c88' class='xr-section-summary-in' type='checkbox' disabled ><label for='section-91ac5c05-f6d3-4db1-8159-c63d3cce2c88' class='xr-section-summary'  title='Expand/collapse section'>Attributes: <span>(0)</span></label><div class='xr-section-inline-details'></div><div class='xr-section-details'><dl class='xr-attrs'></dl></div></li></ul></div></div>"
      ],
      "text/plain": [
       "<xarray.Dataset>\n",
       "Dimensions:    (time: 1001, freq: 64, dir: 72)\n",
       "Coordinates:\n",
       "  * time       (time) float32 9.969e+36 9.969e+36 ... 9.969e+36 9.969e+36\n",
       "  * freq       (freq) float32 9.969e+36 9.969e+36 ... 9.969e+36 9.969e+36\n",
       "  * dir        (dir) float32 9.969e+36 9.969e+36 ... 9.969e+36 9.969e+36\n",
       "Data variables:\n",
       "    cott2D     (time, freq, dir) float32 ...\n",
       "    cott2D05   (time, freq, dir) float32 ...\n",
       "    rott2Dm1   (time, freq, dir) float32 ...\n",
       "    rott2Dm15  (time, freq, dir) float32 ...\n",
       "    cape2Dm25  (time, freq, dir) float32 ...\n",
       "    cape2Dm3   (time, freq, dir) float32 ...\n",
       "    cott2Dm05  (time, freq, dir) float32 ...\n",
       "    cott2Dm1   (time, freq, dir) float32 ..."
      ]
     },
     "execution_count": 5,
     "metadata": {},
     "output_type": "execute_result"
    }
   ],
   "source": [
    "winter_ds = xr.open_dataset('F:\\\\combined-small16x.nc',engine = \"netcdf4\",decode_times=False)\n",
    "winter_ds"
   ]
  },
  {
   "cell_type": "code",
   "execution_count": 6,
   "metadata": {},
   "outputs": [],
   "source": [
    "def calsmv(x): # calculate the number of values that less than one-eighth of the mean value in one matrix.\n",
    "    s = winter_ds[x].values\n",
    "    num = 0\n",
    "    for i in range(len(s)):\n",
    "        num += len(s[i][s[i]<np.average(s)/8])\n",
    "    num = num / len(s)\n",
    "    return num\n"
   ]
  },
  {
   "cell_type": "code",
   "execution_count": 8,
   "metadata": {},
   "outputs": [
    {
     "name": "stdout",
     "output_type": "stream",
     "text": [
      "0.6142953338823873\n"
     ]
    }
   ],
   "source": [
    "total = calsmv(\"rott2Dm1\")+calsmv(\"rott2Dm15\")+calsmv(\"cape2Dm25\")+calsmv(\"cape2Dm3\")+calsmv(\"cott2Dm05\")+calsmv(\"cott2Dm1\")+calsmv(\"cott2D\")\n",
    "avgnum = total/7 # The average number of values that less than one-eighth of the mean value of the matrix(close to zero) in each 64*72(4608) spec2D for the whole dataset.\n",
    "percent = avgnum /4608 # at least 61% of the values in each spec2D are close to zero.\n",
    "print(percent)"
   ]
  },
  {
   "cell_type": "code",
   "execution_count": 9,
   "metadata": {},
   "outputs": [],
   "source": [
    "def reduce_res(inp): # customize the resolution\n",
    "    l = len(inp)\n",
    "    out = np.zeros((l,shape1,shape2))\n",
    "    for i in range(0,l):\n",
    "        out[i] = scale_array(inp[i],(shape2,shape1))\n",
    "    return out"
   ]
  },
  {
   "cell_type": "markdown",
   "metadata": {},
   "source": [
    "### If need to use the raw data, run this chunk."
   ]
  },
  {
   "cell_type": "code",
   "execution_count": 10,
   "metadata": {},
   "outputs": [],
   "source": [
    "# # use the original data of the spec2D.\n",
    "# rott2Dm1=winter_ds[\"rott2Dm1\"].values\n",
    "# rott2Dm15 = winter_ds[\"rott2Dm15\"].values\n",
    "# cape2Dm25 = winter_ds[\"cape2Dm25\"].values\n",
    "# cape2Dm3 = winter_ds[\"cape2Dm3\"].values\n",
    "# cott2Dm05 = winter_ds[\"cott2Dm05\"].values\n",
    "# cott2Dm1 = winter_ds[\"cott2Dm1\"].values\n",
    "# cott2D = winter_ds[\"cott2D\"].values"
   ]
  },
  {
   "cell_type": "markdown",
   "metadata": {},
   "source": [
    "### If need to replace small values with zero and customize the resolution, run this chunk."
   ]
  },
  {
   "cell_type": "code",
   "execution_count": 12,
   "metadata": {},
   "outputs": [],
   "source": [
    "# use the customized resolution of the spec2D and replace the small values with zero.\n",
    "rott2Dm1 = reduce_res(winter_ds[\"rott2Dm1\"].values)\n",
    "rott2Dm15 = reduce_res(winter_ds[\"rott2Dm15\"].values)\n",
    "cape2Dm25 = reduce_res(winter_ds[\"cape2Dm25\"].values)\n",
    "cape2Dm3 = reduce_res(winter_ds[\"cape2Dm3\"].values)\n",
    "cott2Dm05 = reduce_res(winter_ds[\"cott2Dm05\"].values)\n",
    "cott2Dm1 = reduce_res(winter_ds[\"cott2Dm1\"].values)\n",
    "cott2D = reduce_res(winter_ds[\"cott2D\"].values)"
   ]
  },
  {
   "cell_type": "markdown",
   "metadata": {},
   "source": [
    "### Split the dataset to train and test"
   ]
  },
  {
   "cell_type": "code",
   "execution_count": 13,
   "metadata": {},
   "outputs": [
    {
     "name": "stdout",
     "output_type": "stream",
     "text": [
      "torch.Size([1001, 6, 64, 72])\n",
      "torch.Size([1001, 64, 72])\n"
     ]
    }
   ],
   "source": [
    "X1 = torch.tensor(rott2Dm1)\n",
    "X2 = torch.tensor(rott2Dm15)\n",
    "X3 = torch.tensor(cape2Dm25)\n",
    "X4 = torch.tensor(cape2Dm3)\n",
    "X5 = torch.tensor(cott2Dm05)\n",
    "X6 = torch.tensor(cott2Dm1)\n",
    "Y1 = torch.tensor(cott2D)\n",
    "Y1 = Y1.reshape(1001,shape1,shape2).cuda()\n",
    "X = torch.stack((X1, X2,X3,X4,X5,X6))\n",
    "X = X.reshape(1001,6,shape1,shape2).cuda()\n",
    "print(X.shape)\n",
    "print(Y1.shape)\n",
    "X = X.requires_grad_()\n",
    "Y1 = Y1.requires_grad_()\n",
    "DS = torch.utils.data.TensorDataset(X,Y1)\n",
    "train_ds, test_ds = random_split(\n",
    "    dataset=DS,\n",
    "    lengths=[701, 300],\n",
    "    generator=torch.Generator().manual_seed(0)\n",
    ")"
   ]
  },
  {
   "cell_type": "code",
   "execution_count": 14,
   "metadata": {},
   "outputs": [],
   "source": [
    "def printimg(img): # print the spec2D\n",
    "    plt.imshow(img.cpu().detach().numpy(),interpolation='nearest',cmap='bone',origin='upper')\n",
    "    plt.colorbar(shrink=0.5)\n",
    "    plt.xticks(())\n",
    "    plt.yticks(())\n",
    "    plt.show()"
   ]
  },
  {
   "cell_type": "code",
   "execution_count": 15,
   "metadata": {},
   "outputs": [
    {
     "data": {
      "image/png": "[encoded data removed]",
      "text/plain": [
       "<Figure size 432x288 with 2 Axes>"
      ]
     },
     "metadata": {
      "needs_background": "light"
     },
     "output_type": "display_data"
    }
   ],
   "source": [
    "printimg(X[0][0])"
   ]
  },
  {
   "cell_type": "markdown",
   "metadata": {},
   "source": [
    "## Build the Convlstm model"
   ]
  },
  {
   "cell_type": "code",
   "execution_count": 16,
   "metadata": {},
   "outputs": [],
   "source": [
    "class ConvLSTMCell(nn.Module):\n",
    "    def __init__(self, input_channels, hidden_channels, kernel_size):\n",
    "        super(ConvLSTMCell, self).__init__()\n",
    "\n",
    "        self.input_channels = input_channels\n",
    "        self.hidden_channels = hidden_channels\n",
    "        self.kernel_size = kernel_size\n",
    "\n",
    "        self.padding = int((kernel_size - 1) / 2)\n",
    "\n",
    "        self.Wxi = nn.Sequential(nn.Conv2d(self.input_channels, self.hidden_channels, self.kernel_size, 1, self.padding, bias=True))\n",
    "        self.Whi = nn.Sequential(nn.Conv2d(self.hidden_channels, self.hidden_channels, self.kernel_size, 1, self.padding, bias=False))\n",
    "        self.Wxf = nn.Sequential(nn.Conv2d(self.input_channels, self.hidden_channels, self.kernel_size, 1, self.padding, bias=True))\n",
    "        self.Whf = nn.Sequential(nn.Conv2d(self.hidden_channels, self.hidden_channels, self.kernel_size, 1, self.padding, bias=False))\n",
    "        self.Wxc = nn.Sequential(nn.Conv2d(self.input_channels, self.hidden_channels, self.kernel_size, 1, self.padding, bias=True))\n",
    "        self.Whc = nn.Sequential(nn.Conv2d(self.hidden_channels, self.hidden_channels, self.kernel_size, 1, self.padding, bias=False))\n",
    "        self.Wxo = nn.Sequential(nn.Conv2d(self.input_channels, self.hidden_channels, self.kernel_size, 1, self.padding, bias=True))\n",
    "        self.Who = nn.Sequential(nn.Conv2d(self.hidden_channels, self.hidden_channels, self.kernel_size, 1, self.padding, bias=False))\n",
    "\n",
    "        self.Wci = None\n",
    "        self.Wcf = None\n",
    "        self.Wco = None\n",
    "\n",
    "    def forward(self, x, h, c):\n",
    "        ci = torch.sigmoid(self.Wxi(x) + self.Whi(h) + c * self.Wci)\n",
    "        cf = torch.sigmoid(self.Wxf(x) + self.Whf(h) + c * self.Wcf)\n",
    "        cc = cf * c + ci * torch.tanh(self.Wxc(x) + self.Whc(h))\n",
    "        co = torch.sigmoid(self.Wxo(x) + self.Who(h) + cc * self.Wco)\n",
    "        ch = co * torch.tanh(cc)\n",
    "        return ch, cc\n",
    "\n",
    "    def init_hidden(self, batch_size, hidden, shape):\n",
    "        if self.Wci is None:\n",
    "            self.Wci = nn.Parameter(torch.zeros(1, hidden, shape[0], shape[1])).cuda()\n",
    "            self.Wcf = nn.Parameter(torch.zeros(1, hidden, shape[0], shape[1])).cuda()\n",
    "            self.Wco = nn.Parameter(torch.zeros(1, hidden, shape[0], shape[1])).cuda()\n",
    "        else:\n",
    "            assert shape[0] == self.Wci.size()[2], 'Input Height Mismatched!'\n",
    "            assert shape[1] == self.Wci.size()[3], 'Input Width Mismatched!'\n",
    "        return (Variable(torch.zeros(batch_size, hidden, shape[0], shape[1])).cuda(),\n",
    "                Variable(torch.zeros(batch_size, hidden, shape[0], shape[1])).cuda())\n",
    "\n",
    "\n",
    "class ConvLSTM(nn.Module):\n",
    "    # input_channels corresponds to the first input feature map\n",
    "    # hidden state is a list of succeeding lstm layers.\n",
    "    def __init__(self, input_channels, hidden_channels, kernel_size, step=1, effective_step=[1]):\n",
    "        super(ConvLSTM, self).__init__()\n",
    "        self.input_channels = [input_channels] + hidden_channels\n",
    "        self.hidden_channels = hidden_channels\n",
    "        self.kernel_size = kernel_size\n",
    "        self.num_layers = len(hidden_channels)\n",
    "        self.step = step\n",
    "        self.effective_step = effective_step\n",
    "        self._all_layers = []\n",
    "        for i in range(self.num_layers):\n",
    "            name = 'cell{}'.format(i)\n",
    "            cell = ConvLSTMCell(self.input_channels[i], self.hidden_channels[i], self.kernel_size)\n",
    "            setattr(self, name, cell)\n",
    "            self._all_layers.append(cell)\n",
    "\n",
    "    def forward(self, input):\n",
    "        internal_state = []\n",
    "        outputs = []\n",
    "        for step in range(self.step):\n",
    "            x = input\n",
    "            for i in range(self.num_layers):\n",
    "                # all cells are initialized in the first step\n",
    "                name = 'cell{}'.format(i)\n",
    "                if step == 0:\n",
    "                    bsize, _, height, width = x.size()\n",
    "                    (h, c) = getattr(self, name).init_hidden(batch_size=bsize, hidden=self.hidden_channels[i],\n",
    "                                                             shape=(height, width))\n",
    "                    internal_state.append((h, c))\n",
    "\n",
    "                # do forward\n",
    "                (h, c) = internal_state[i]\n",
    "                x, new_c = getattr(self, name)(x, h, c)\n",
    "                internal_state[i] = (x, new_c)\n",
    "            # only record effective steps\n",
    "            if step in self.effective_step:\n",
    "                outputs.append(x)\n",
    "\n",
    "        return outputs, (x, new_c)"
   ]
  },
  {
   "cell_type": "markdown",
   "metadata": {},
   "source": [
    "### start training process"
   ]
  },
  {
   "cell_type": "code",
   "execution_count": 13,
   "metadata": {},
   "outputs": [
    {
     "name": "stdout",
     "output_type": "stream",
     "text": [
      "0\n",
      "<class 'torch.Tensor'>\n",
      "torch.Size([8, 64, 72])\n",
      "tensor(0.0504, device='cuda:0', grad_fn=<SqrtBackward0>)\n",
      "1\n",
      "<class 'torch.Tensor'>\n",
      "torch.Size([8, 64, 72])\n",
      "tensor(0.0522, device='cuda:0', grad_fn=<SqrtBackward0>)\n",
      "2\n",
      "<class 'torch.Tensor'>\n",
      "torch.Size([8, 64, 72])\n",
      "tensor(0.0572, device='cuda:0', grad_fn=<SqrtBackward0>)\n",
      "3\n",
      "<class 'torch.Tensor'>\n",
      "torch.Size([8, 64, 72])\n",
      "tensor(0.0490, device='cuda:0', grad_fn=<SqrtBackward0>)\n",
      "4\n",
      "<class 'torch.Tensor'>\n",
      "torch.Size([8, 64, 72])\n",
      "tensor(0.0623, device='cuda:0', grad_fn=<SqrtBackward0>)\n",
      "5\n",
      "<class 'torch.Tensor'>\n",
      "torch.Size([8, 64, 72])\n",
      "tensor(0.0452, device='cuda:0', grad_fn=<SqrtBackward0>)\n"
     ]
    },
    {
     "ename": "KeyboardInterrupt",
     "evalue": "",
     "output_type": "error",
     "traceback": [
      "\u001b[1;31m---------------------------------------------------------------------------\u001b[0m",
      "\u001b[1;31mKeyboardInterrupt\u001b[0m                         Traceback (most recent call last)",
      "\u001b[1;32mc:\\Users\\asus\\Desktop\\CITS5553\\finalmodel.ipynb Cell 13\u001b[0m in \u001b[0;36m<cell line: 8>\u001b[1;34m()\u001b[0m\n\u001b[0;32m     <a href='vscode-notebook-cell:/c%3A/Users/asus/Desktop/CITS5553/finalmodel.ipynb#X15sZmlsZQ%3D%3D?line=17'>18</a>\u001b[0m \u001b[39mprint\u001b[39m(loss)\n\u001b[0;32m     <a href='vscode-notebook-cell:/c%3A/Users/asus/Desktop/CITS5553/finalmodel.ipynb#X15sZmlsZQ%3D%3D?line=18'>19</a>\u001b[0m optimizer\u001b[39m.\u001b[39mzero_grad()\n\u001b[1;32m---> <a href='vscode-notebook-cell:/c%3A/Users/asus/Desktop/CITS5553/finalmodel.ipynb#X15sZmlsZQ%3D%3D?line=19'>20</a>\u001b[0m loss\u001b[39m.\u001b[39;49mbackward()\n\u001b[0;32m     <a href='vscode-notebook-cell:/c%3A/Users/asus/Desktop/CITS5553/finalmodel.ipynb#X15sZmlsZQ%3D%3D?line=20'>21</a>\u001b[0m optimizer\u001b[39m.\u001b[39mstep()\n\u001b[0;32m     <a href='vscode-notebook-cell:/c%3A/Users/asus/Desktop/CITS5553/finalmodel.ipynb#X15sZmlsZQ%3D%3D?line=21'>22</a>\u001b[0m torch\u001b[39m.\u001b[39msave(convlstm,\u001b[39m'\u001b[39m\u001b[39mC:/Users/asus/Desktop/CITS5553/conlstm2\u001b[39m\u001b[39m'\u001b[39m)\n",
      "File \u001b[1;32mc:\\ProgramData\\Anaconda3\\envs\\Capstone_PT_GPU\\lib\\site-packages\\torch\\_tensor.py:396\u001b[0m, in \u001b[0;36mTensor.backward\u001b[1;34m(self, gradient, retain_graph, create_graph, inputs)\u001b[0m\n\u001b[0;32m    387\u001b[0m \u001b[39mif\u001b[39;00m has_torch_function_unary(\u001b[39mself\u001b[39m):\n\u001b[0;32m    388\u001b[0m     \u001b[39mreturn\u001b[39;00m handle_torch_function(\n\u001b[0;32m    389\u001b[0m         Tensor\u001b[39m.\u001b[39mbackward,\n\u001b[0;32m    390\u001b[0m         (\u001b[39mself\u001b[39m,),\n\u001b[1;32m   (...)\u001b[0m\n\u001b[0;32m    394\u001b[0m         create_graph\u001b[39m=\u001b[39mcreate_graph,\n\u001b[0;32m    395\u001b[0m         inputs\u001b[39m=\u001b[39minputs)\n\u001b[1;32m--> 396\u001b[0m torch\u001b[39m.\u001b[39;49mautograd\u001b[39m.\u001b[39;49mbackward(\u001b[39mself\u001b[39;49m, gradient, retain_graph, create_graph, inputs\u001b[39m=\u001b[39;49minputs)\n",
      "File \u001b[1;32mc:\\ProgramData\\Anaconda3\\envs\\Capstone_PT_GPU\\lib\\site-packages\\torch\\autograd\\__init__.py:173\u001b[0m, in \u001b[0;36mbackward\u001b[1;34m(tensors, grad_tensors, retain_graph, create_graph, grad_variables, inputs)\u001b[0m\n\u001b[0;32m    168\u001b[0m     retain_graph \u001b[39m=\u001b[39m create_graph\n\u001b[0;32m    170\u001b[0m \u001b[39m# The reason we repeat same the comment below is that\u001b[39;00m\n\u001b[0;32m    171\u001b[0m \u001b[39m# some Python versions print out the first line of a multi-line function\u001b[39;00m\n\u001b[0;32m    172\u001b[0m \u001b[39m# calls in the traceback and some print out the last line\u001b[39;00m\n\u001b[1;32m--> 173\u001b[0m Variable\u001b[39m.\u001b[39;49m_execution_engine\u001b[39m.\u001b[39;49mrun_backward(  \u001b[39m# Calls into the C++ engine to run the backward pass\u001b[39;49;00m\n\u001b[0;32m    174\u001b[0m     tensors, grad_tensors_, retain_graph, create_graph, inputs,\n\u001b[0;32m    175\u001b[0m     allow_unreachable\u001b[39m=\u001b[39;49m\u001b[39mTrue\u001b[39;49;00m, accumulate_grad\u001b[39m=\u001b[39;49m\u001b[39mTrue\u001b[39;49;00m)\n",
      "\u001b[1;31mKeyboardInterrupt\u001b[0m: "
     ]
    }
   ],
   "source": [
    "\n",
    "convlstm = ConvLSTM(input_channels=5, hidden_channels=[64,32,32,1], kernel_size=3, step=5,\n",
    "                        effective_step=[3,4]).cuda()\n",
    "loss_function = nn.MSELoss()\n",
    "#optimizer = torch.optim.SGD(convlstm.parameters(),lr=0.001)\n",
    "#optimizer = torch.optim.RMSprop(convlstm.parameters(),lr=0.001)\n",
    "optimizer = torch.optim.Adam(convlstm.parameters(), lr=0.001, betas=(0.9, 0.999), eps=1e-08, weight_decay=0, amsgrad=False)\n",
    "convlstm.train()\n",
    "for epoch in range(100):\n",
    "    loader = DataLoader(train_ds, batch_size=8,shuffle = True)\n",
    "    convlstm.train()\n",
    "    for step,(batch_x,batch_y) in enumerate(loader):\n",
    "        print(step)\n",
    "        batch_x=batch_x.float()\n",
    "        print(type(batch_x))\n",
    "        y_pred = convlstm(Variable(batch_x))[0][0].reshape(convlstm(Variable(batch_x))[0][0].shape[0],shape1,shape2)\n",
    "        print(y_pred.shape)\n",
    "        loss = torch.sqrt(loss_function(y_pred,batch_y.float()))\n",
    "        print(loss)\n",
    "        optimizer.zero_grad()\n",
    "        loss.backward()\n",
    "        optimizer.step()\n",
    "        torch.save(convlstm,'C:/Users/asus/Desktop/CITS5553/conlstm2')"
   ]
  },
  {
   "cell_type": "markdown",
   "metadata": {},
   "source": [
    "#### clear the memory if error of 'cuda out of memory' appears. Run this chunk and restart the kernel."
   ]
  },
  {
   "cell_type": "code",
   "execution_count": 15,
   "metadata": {},
   "outputs": [
    {
     "name": "stdout",
     "output_type": "stream",
     "text": [
      "Initial GPU Usage\n",
      "| ID | GPU | MEM |\n",
      "------------------\n",
      "|  0 | 15% | 98% |\n",
      "GPU Usage after emptying the cache\n",
      "| ID | GPU | MEM |\n",
      "------------------\n",
      "|  0 | 14% |  7% |\n"
     ]
    }
   ],
   "source": [
    "# # clear the memory\n",
    "# import torch\n",
    "# from GPUtil import showUtilization as gpu_usage\n",
    "# from numba import cuda\n",
    "\n",
    "# def free_gpu_cache():\n",
    "#     print(\"Initial GPU Usage\")\n",
    "#     gpu_usage()                             \n",
    "\n",
    "#     torch.cuda.empty_cache()\n",
    "\n",
    "#     cuda.select_device(0)\n",
    "#     cuda.close()\n",
    "#     cuda.select_device(0)\n",
    "\n",
    "#     print(\"GPU Usage after emptying the cache\")\n",
    "#     gpu_usage()\n",
    "\n",
    "# free_gpu_cache() "
   ]
  },
  {
   "cell_type": "markdown",
   "metadata": {},
   "source": [
    "#### load the trained model"
   ]
  },
  {
   "cell_type": "code",
   "execution_count": 17,
   "metadata": {},
   "outputs": [],
   "source": [
    "convlstm = torch.load('C:/Users/asus/Desktop/CITS5553/conlstmnew')"
   ]
  },
  {
   "cell_type": "markdown",
   "metadata": {},
   "source": [
    "### predict the test set"
   ]
  },
  {
   "cell_type": "code",
   "execution_count": 18,
   "metadata": {},
   "outputs": [
    {
     "name": "stdout",
     "output_type": "stream",
     "text": [
      "torch.Size([8, 64, 72])\n",
      "tensor(0.0543, device='cuda:0', grad_fn=<SqrtBackward0>)\n",
      "tensor(0.0392, device='cuda:0', grad_fn=<SqrtBackward0>)\n",
      "tensor(0.0325, device='cuda:0', grad_fn=<SqrtBackward0>)\n",
      "tensor(0.0385, device='cuda:0', grad_fn=<SqrtBackward0>)\n",
      "tensor(0.0303, device='cuda:0', grad_fn=<SqrtBackward0>)\n",
      "tensor(0.0588, device='cuda:0', grad_fn=<SqrtBackward0>)\n",
      "tensor(0.0618, device='cuda:0', grad_fn=<SqrtBackward0>)\n",
      "tensor(0.0532, device='cuda:0', grad_fn=<SqrtBackward0>)\n",
      "torch.Size([8, 64, 72])\n",
      "tensor(0.0293, device='cuda:0', grad_fn=<SqrtBackward0>)\n",
      "tensor(0.0475, device='cuda:0', grad_fn=<SqrtBackward0>)\n",
      "tensor(0.0466, device='cuda:0', grad_fn=<SqrtBackward0>)\n",
      "tensor(0.0301, device='cuda:0', grad_fn=<SqrtBackward0>)\n",
      "tensor(0.0500, device='cuda:0', grad_fn=<SqrtBackward0>)\n",
      "tensor(0.0473, device='cuda:0', grad_fn=<SqrtBackward0>)\n",
      "tensor(0.0339, device='cuda:0', grad_fn=<SqrtBackward0>)\n",
      "tensor(0.0529, device='cuda:0', grad_fn=<SqrtBackward0>)\n",
      "torch.Size([8, 64, 72])\n",
      "tensor(0.0525, device='cuda:0', grad_fn=<SqrtBackward0>)\n",
      "tensor(0.0329, device='cuda:0', grad_fn=<SqrtBackward0>)\n",
      "tensor(0.0175, device='cuda:0', grad_fn=<SqrtBackward0>)\n",
      "tensor(0.0403, device='cuda:0', grad_fn=<SqrtBackward0>)\n",
      "tensor(0.0473, device='cuda:0', grad_fn=<SqrtBackward0>)\n",
      "tensor(0.0387, device='cuda:0', grad_fn=<SqrtBackward0>)\n",
      "tensor(0.0508, device='cuda:0', grad_fn=<SqrtBackward0>)\n",
      "tensor(0.0422, device='cuda:0', grad_fn=<SqrtBackward0>)\n",
      "torch.Size([8, 64, 72])\n",
      "tensor(0.0379, device='cuda:0', grad_fn=<SqrtBackward0>)\n",
      "tensor(0.0688, device='cuda:0', grad_fn=<SqrtBackward0>)\n",
      "tensor(0.0262, device='cuda:0', grad_fn=<SqrtBackward0>)\n",
      "tensor(0.0681, device='cuda:0', grad_fn=<SqrtBackward0>)\n",
      "tensor(0.0551, device='cuda:0', grad_fn=<SqrtBackward0>)\n",
      "tensor(0.0348, device='cuda:0', grad_fn=<SqrtBackward0>)\n",
      "tensor(0.0503, device='cuda:0', grad_fn=<SqrtBackward0>)\n",
      "tensor(0.0554, device='cuda:0', grad_fn=<SqrtBackward0>)\n",
      "torch.Size([8, 64, 72])\n",
      "tensor(0.0400, device='cuda:0', grad_fn=<SqrtBackward0>)\n",
      "tensor(0.0431, device='cuda:0', grad_fn=<SqrtBackward0>)\n",
      "tensor(0.0315, device='cuda:0', grad_fn=<SqrtBackward0>)\n",
      "tensor(0.0571, device='cuda:0', grad_fn=<SqrtBackward0>)\n",
      "tensor(0.0525, device='cuda:0', grad_fn=<SqrtBackward0>)\n",
      "tensor(0.0360, device='cuda:0', grad_fn=<SqrtBackward0>)\n",
      "tensor(0.0542, device='cuda:0', grad_fn=<SqrtBackward0>)\n",
      "tensor(0.0634, device='cuda:0', grad_fn=<SqrtBackward0>)\n",
      "torch.Size([8, 64, 72])\n",
      "tensor(0.0634, device='cuda:0', grad_fn=<SqrtBackward0>)\n",
      "tensor(0.0355, device='cuda:0', grad_fn=<SqrtBackward0>)\n",
      "tensor(0.0441, device='cuda:0', grad_fn=<SqrtBackward0>)\n",
      "tensor(0.0355, device='cuda:0', grad_fn=<SqrtBackward0>)\n",
      "tensor(0.0598, device='cuda:0', grad_fn=<SqrtBackward0>)\n",
      "tensor(0.0447, device='cuda:0', grad_fn=<SqrtBackward0>)\n",
      "tensor(0.0567, device='cuda:0', grad_fn=<SqrtBackward0>)\n",
      "tensor(0.0795, device='cuda:0', grad_fn=<SqrtBackward0>)\n",
      "torch.Size([8, 64, 72])\n",
      "tensor(0.0443, device='cuda:0', grad_fn=<SqrtBackward0>)\n",
      "tensor(0.0266, device='cuda:0', grad_fn=<SqrtBackward0>)\n",
      "tensor(0.0523, device='cuda:0', grad_fn=<SqrtBackward0>)\n",
      "tensor(0.0766, device='cuda:0', grad_fn=<SqrtBackward0>)\n",
      "tensor(0.0309, device='cuda:0', grad_fn=<SqrtBackward0>)\n",
      "tensor(0.0367, device='cuda:0', grad_fn=<SqrtBackward0>)\n",
      "tensor(0.0698, device='cuda:0', grad_fn=<SqrtBackward0>)\n",
      "tensor(0.0316, device='cuda:0', grad_fn=<SqrtBackward0>)\n"
     ]
    },
    {
     "ename": "RuntimeError",
     "evalue": "CUDA out of memory. Tried to allocate 20.00 MiB (GPU 0; 6.00 GiB total capacity; 4.96 GiB already allocated; 0 bytes free; 5.34 GiB reserved in total by PyTorch) If reserved memory is >> allocated memory try setting max_split_size_mb to avoid fragmentation.  See documentation for Memory Management and PYTORCH_CUDA_ALLOC_CONF",
     "output_type": "error",
     "traceback": [
      "\u001b[1;31m---------------------------------------------------------------------------\u001b[0m",
      "\u001b[1;31mRuntimeError\u001b[0m                              Traceback (most recent call last)",
      "\u001b[1;32mc:\\Users\\asus\\Desktop\\CITS5553\\finalmodel.ipynb Cell 25\u001b[0m in \u001b[0;36m<cell line: 8>\u001b[1;34m()\u001b[0m\n\u001b[0;32m      <a href='vscode-notebook-cell:/c%3A/Users/asus/Desktop/CITS5553/finalmodel.ipynb#X22sZmlsZQ%3D%3D?line=7'>8</a>\u001b[0m \u001b[39mfor\u001b[39;00m step,(batch_tx,batch_ty) \u001b[39min\u001b[39;00m \u001b[39menumerate\u001b[39m(testds):\n\u001b[0;32m      <a href='vscode-notebook-cell:/c%3A/Users/asus/Desktop/CITS5553/finalmodel.ipynb#X22sZmlsZQ%3D%3D?line=8'>9</a>\u001b[0m     batch_tx\u001b[39m=\u001b[39mbatch_tx\u001b[39m.\u001b[39mfloat()\n\u001b[1;32m---> <a href='vscode-notebook-cell:/c%3A/Users/asus/Desktop/CITS5553/finalmodel.ipynb#X22sZmlsZQ%3D%3D?line=9'>10</a>\u001b[0m     yt_pred \u001b[39m=\u001b[39m convlstm(Variable(batch_tx))[\u001b[39m0\u001b[39m][\u001b[39m0\u001b[39m]\u001b[39m.\u001b[39mreshape(convlstm(Variable(batch_tx))[\u001b[39m0\u001b[39m][\u001b[39m0\u001b[39m]\u001b[39m.\u001b[39mshape[\u001b[39m0\u001b[39m],shape1,shape2)\n\u001b[0;32m     <a href='vscode-notebook-cell:/c%3A/Users/asus/Desktop/CITS5553/finalmodel.ipynb#X22sZmlsZQ%3D%3D?line=10'>11</a>\u001b[0m     \u001b[39mprint\u001b[39m(yt_pred\u001b[39m.\u001b[39mshape)\n\u001b[0;32m     <a href='vscode-notebook-cell:/c%3A/Users/asus/Desktop/CITS5553/finalmodel.ipynb#X22sZmlsZQ%3D%3D?line=11'>12</a>\u001b[0m     \u001b[39mfor\u001b[39;00m i \u001b[39min\u001b[39;00m \u001b[39mrange\u001b[39m(convlstm(Variable(batch_tx))[\u001b[39m0\u001b[39m][\u001b[39m0\u001b[39m]\u001b[39m.\u001b[39mshape[\u001b[39m0\u001b[39m]):\n\u001b[0;32m     <a href='vscode-notebook-cell:/c%3A/Users/asus/Desktop/CITS5553/finalmodel.ipynb#X22sZmlsZQ%3D%3D?line=12'>13</a>\u001b[0m         \u001b[39m#printimg(yt_pred[i].reshape(shape1,shape2).detach())\u001b[39;00m\n",
      "File \u001b[1;32mc:\\ProgramData\\Anaconda3\\envs\\Capstone_PT_GPU\\lib\\site-packages\\torch\\nn\\modules\\module.py:1130\u001b[0m, in \u001b[0;36mModule._call_impl\u001b[1;34m(self, *input, **kwargs)\u001b[0m\n\u001b[0;32m   1126\u001b[0m \u001b[39m# If we don't have any hooks, we want to skip the rest of the logic in\u001b[39;00m\n\u001b[0;32m   1127\u001b[0m \u001b[39m# this function, and just call forward.\u001b[39;00m\n\u001b[0;32m   1128\u001b[0m \u001b[39mif\u001b[39;00m \u001b[39mnot\u001b[39;00m (\u001b[39mself\u001b[39m\u001b[39m.\u001b[39m_backward_hooks \u001b[39mor\u001b[39;00m \u001b[39mself\u001b[39m\u001b[39m.\u001b[39m_forward_hooks \u001b[39mor\u001b[39;00m \u001b[39mself\u001b[39m\u001b[39m.\u001b[39m_forward_pre_hooks \u001b[39mor\u001b[39;00m _global_backward_hooks\n\u001b[0;32m   1129\u001b[0m         \u001b[39mor\u001b[39;00m _global_forward_hooks \u001b[39mor\u001b[39;00m _global_forward_pre_hooks):\n\u001b[1;32m-> 1130\u001b[0m     \u001b[39mreturn\u001b[39;00m forward_call(\u001b[39m*\u001b[39;49m\u001b[39minput\u001b[39;49m, \u001b[39m*\u001b[39;49m\u001b[39m*\u001b[39;49mkwargs)\n\u001b[0;32m   1131\u001b[0m \u001b[39m# Do not call functions when jit is used\u001b[39;00m\n\u001b[0;32m   1132\u001b[0m full_backward_hooks, non_full_backward_hooks \u001b[39m=\u001b[39m [], []\n",
      "\u001b[1;32mc:\\Users\\asus\\Desktop\\CITS5553\\finalmodel.ipynb Cell 25\u001b[0m in \u001b[0;36mConvLSTM.forward\u001b[1;34m(self, input)\u001b[0m\n\u001b[0;32m     <a href='vscode-notebook-cell:/c%3A/Users/asus/Desktop/CITS5553/finalmodel.ipynb#X22sZmlsZQ%3D%3D?line=75'>76</a>\u001b[0m     \u001b[39m# do forward\u001b[39;00m\n\u001b[0;32m     <a href='vscode-notebook-cell:/c%3A/Users/asus/Desktop/CITS5553/finalmodel.ipynb#X22sZmlsZQ%3D%3D?line=76'>77</a>\u001b[0m     (h, c) \u001b[39m=\u001b[39m internal_state[i]\n\u001b[1;32m---> <a href='vscode-notebook-cell:/c%3A/Users/asus/Desktop/CITS5553/finalmodel.ipynb#X22sZmlsZQ%3D%3D?line=77'>78</a>\u001b[0m     x, new_c \u001b[39m=\u001b[39m \u001b[39mgetattr\u001b[39;49m(\u001b[39mself\u001b[39;49m, name)(x, h, c)\n\u001b[0;32m     <a href='vscode-notebook-cell:/c%3A/Users/asus/Desktop/CITS5553/finalmodel.ipynb#X22sZmlsZQ%3D%3D?line=78'>79</a>\u001b[0m     internal_state[i] \u001b[39m=\u001b[39m (x, new_c)\n\u001b[0;32m     <a href='vscode-notebook-cell:/c%3A/Users/asus/Desktop/CITS5553/finalmodel.ipynb#X22sZmlsZQ%3D%3D?line=79'>80</a>\u001b[0m \u001b[39m# only record effective steps\u001b[39;00m\n",
      "File \u001b[1;32mc:\\ProgramData\\Anaconda3\\envs\\Capstone_PT_GPU\\lib\\site-packages\\torch\\nn\\modules\\module.py:1130\u001b[0m, in \u001b[0;36mModule._call_impl\u001b[1;34m(self, *input, **kwargs)\u001b[0m\n\u001b[0;32m   1126\u001b[0m \u001b[39m# If we don't have any hooks, we want to skip the rest of the logic in\u001b[39;00m\n\u001b[0;32m   1127\u001b[0m \u001b[39m# this function, and just call forward.\u001b[39;00m\n\u001b[0;32m   1128\u001b[0m \u001b[39mif\u001b[39;00m \u001b[39mnot\u001b[39;00m (\u001b[39mself\u001b[39m\u001b[39m.\u001b[39m_backward_hooks \u001b[39mor\u001b[39;00m \u001b[39mself\u001b[39m\u001b[39m.\u001b[39m_forward_hooks \u001b[39mor\u001b[39;00m \u001b[39mself\u001b[39m\u001b[39m.\u001b[39m_forward_pre_hooks \u001b[39mor\u001b[39;00m _global_backward_hooks\n\u001b[0;32m   1129\u001b[0m         \u001b[39mor\u001b[39;00m _global_forward_hooks \u001b[39mor\u001b[39;00m _global_forward_pre_hooks):\n\u001b[1;32m-> 1130\u001b[0m     \u001b[39mreturn\u001b[39;00m forward_call(\u001b[39m*\u001b[39;49m\u001b[39minput\u001b[39;49m, \u001b[39m*\u001b[39;49m\u001b[39m*\u001b[39;49mkwargs)\n\u001b[0;32m   1131\u001b[0m \u001b[39m# Do not call functions when jit is used\u001b[39;00m\n\u001b[0;32m   1132\u001b[0m full_backward_hooks, non_full_backward_hooks \u001b[39m=\u001b[39m [], []\n",
      "\u001b[1;32mc:\\Users\\asus\\Desktop\\CITS5553\\finalmodel.ipynb Cell 25\u001b[0m in \u001b[0;36mConvLSTMCell.forward\u001b[1;34m(self, x, h, c)\u001b[0m\n\u001b[0;32m     <a href='vscode-notebook-cell:/c%3A/Users/asus/Desktop/CITS5553/finalmodel.ipynb#X22sZmlsZQ%3D%3D?line=25'>26</a>\u001b[0m cf \u001b[39m=\u001b[39m torch\u001b[39m.\u001b[39msigmoid(\u001b[39mself\u001b[39m\u001b[39m.\u001b[39mWxf(x) \u001b[39m+\u001b[39m \u001b[39mself\u001b[39m\u001b[39m.\u001b[39mWhf(h) \u001b[39m+\u001b[39m c \u001b[39m*\u001b[39m \u001b[39mself\u001b[39m\u001b[39m.\u001b[39mWcf)\n\u001b[0;32m     <a href='vscode-notebook-cell:/c%3A/Users/asus/Desktop/CITS5553/finalmodel.ipynb#X22sZmlsZQ%3D%3D?line=26'>27</a>\u001b[0m cc \u001b[39m=\u001b[39m cf \u001b[39m*\u001b[39m c \u001b[39m+\u001b[39m ci \u001b[39m*\u001b[39m torch\u001b[39m.\u001b[39mtanh(\u001b[39mself\u001b[39m\u001b[39m.\u001b[39mWxc(x) \u001b[39m+\u001b[39m \u001b[39mself\u001b[39m\u001b[39m.\u001b[39mWhc(h))\n\u001b[1;32m---> <a href='vscode-notebook-cell:/c%3A/Users/asus/Desktop/CITS5553/finalmodel.ipynb#X22sZmlsZQ%3D%3D?line=27'>28</a>\u001b[0m co \u001b[39m=\u001b[39m torch\u001b[39m.\u001b[39msigmoid(\u001b[39mself\u001b[39;49m\u001b[39m.\u001b[39;49mWxo(x) \u001b[39m+\u001b[39;49m \u001b[39mself\u001b[39;49m\u001b[39m.\u001b[39;49mWho(h) \u001b[39m+\u001b[39m cc \u001b[39m*\u001b[39m \u001b[39mself\u001b[39m\u001b[39m.\u001b[39mWco)\n\u001b[0;32m     <a href='vscode-notebook-cell:/c%3A/Users/asus/Desktop/CITS5553/finalmodel.ipynb#X22sZmlsZQ%3D%3D?line=28'>29</a>\u001b[0m ch \u001b[39m=\u001b[39m co \u001b[39m*\u001b[39m torch\u001b[39m.\u001b[39mtanh(cc)\n\u001b[0;32m     <a href='vscode-notebook-cell:/c%3A/Users/asus/Desktop/CITS5553/finalmodel.ipynb#X22sZmlsZQ%3D%3D?line=29'>30</a>\u001b[0m \u001b[39mreturn\u001b[39;00m ch, cc\n",
      "\u001b[1;31mRuntimeError\u001b[0m: CUDA out of memory. Tried to allocate 20.00 MiB (GPU 0; 6.00 GiB total capacity; 4.96 GiB already allocated; 0 bytes free; 5.34 GiB reserved in total by PyTorch) If reserved memory is >> allocated memory try setting max_split_size_mb to avoid fragmentation.  See documentation for Memory Management and PYTORCH_CUDA_ALLOC_CONF"
     ]
    }
   ],
   "source": [
    "predictlst=[]\n",
    "truthlst=[]\n",
    "loslst=[]\n",
    "loss_function = nn.MSELoss()\n",
    "testds = DataLoader(test_ds, batch_size=8,shuffle = True)\n",
    "running_loss = 0.\n",
    "convlstm.eval()\n",
    "for step,(batch_tx,batch_ty) in enumerate(testds):\n",
    "    batch_tx=batch_tx.float()\n",
    "    yt_pred = convlstm(Variable(batch_tx))[0][0].reshape(convlstm(Variable(batch_tx))[0][0].shape[0],shape1,shape2)\n",
    "    print(yt_pred.shape)\n",
    "    for i in range(convlstm(Variable(batch_tx))[0][0].shape[0]):\n",
    "        #printimg(yt_pred[i].reshape(shape1,shape2).detach())\n",
    "        predictlst.append(yt_pred[i].reshape(shape1,shape2))\n",
    "        #print(yt_pred[i])\n",
    "        #printimg(batch_ty[i].reshape(shape1,shape2).detach())\n",
    "        truthlst.append(batch_ty[i])\n",
    "        print(torch.sqrt(loss_function(yt_pred[i], batch_ty[i].float())))\n",
    "        loslst.append(torch.sqrt(loss_function(yt_pred[i], batch_ty[i].float())))\n",
    "    loss = torch.sqrt(loss_function(yt_pred, batch_ty.float()))\n",
    "    running_loss += (loss.item() - running_loss) / (step + 1)\n",
    "\n",
    "print(\"Test loss: {};\".format(running_loss))"
   ]
  },
  {
   "cell_type": "markdown",
   "metadata": {},
   "source": [
    "### print random three spec2Ds of prediction and truth."
   ]
  },
  {
   "cell_type": "code",
   "execution_count": 19,
   "metadata": {},
   "outputs": [
    {
     "name": "stdout",
     "output_type": "stream",
     "text": [
      "20\n",
      "prediction\n"
     ]
    },
    {
     "data": {
      "image/png": "[encoded data removed]",
      "text/plain": [
       "<Figure size 432x288 with 2 Axes>"
      ]
     },
     "metadata": {
      "needs_background": "light"
     },
     "output_type": "display_data"
    },
    {
     "name": "stdout",
     "output_type": "stream",
     "text": [
      "truth\n"
     ]
    },
    {
     "data": {
      "image/png": "[encoded data removed]",
      "text/plain": [
       "<Figure size 432x288 with 2 Axes>"
      ]
     },
     "metadata": {
      "needs_background": "light"
     },
     "output_type": "display_data"
    },
    {
     "name": "stdout",
     "output_type": "stream",
     "text": [
      "loss is: tensor(0.0473, device='cuda:0', grad_fn=<SqrtBackward0>)\n",
      "40\n",
      "prediction\n"
     ]
    },
    {
     "data": {
      "image/png": "[encoded data removed]",
      "text/plain": [
       "<Figure size 432x288 with 2 Axes>"
      ]
     },
     "metadata": {
      "needs_background": "light"
     },
     "output_type": "display_data"
    },
    {
     "name": "stdout",
     "output_type": "stream",
     "text": [
      "truth\n"
     ]
    },
    {
     "data": {
      "image/png": "[encoded data removed]",
      "text/plain": [
       "<Figure size 432x288 with 2 Axes>"
      ]
     },
     "metadata": {
      "needs_background": "light"
     },
     "output_type": "display_data"
    },
    {
     "name": "stdout",
     "output_type": "stream",
     "text": [
      "loss is: tensor(0.0634, device='cuda:0', grad_fn=<SqrtBackward0>)\n",
      "4\n",
      "prediction\n"
     ]
    },
    {
     "data": {
      "image/png": "[encoded data removed]",
      "text/plain": [
       "<Figure size 432x288 with 2 Axes>"
      ]
     },
     "metadata": {
      "needs_background": "light"
     },
     "output_type": "display_data"
    },
    {
     "name": "stdout",
     "output_type": "stream",
     "text": [
      "truth\n"
     ]
    },
    {
     "data": {
      "image/png": "[encoded data removed]",
      "text/plain": [
       "<Figure size 432x288 with 2 Axes>"
      ]
     },
     "metadata": {
      "needs_background": "light"
     },
     "output_type": "display_data"
    },
    {
     "name": "stdout",
     "output_type": "stream",
     "text": [
      "loss is: tensor(0.0303, device='cuda:0', grad_fn=<SqrtBackward0>)\n"
     ]
    }
   ],
   "source": [
    "import random\n",
    "rl = random.sample(range(1,50),3)\n",
    "for i in rl:\n",
    "    print(i)\n",
    "    print('prediction')\n",
    "    printimg(predictlst[i])\n",
    "    print('truth')\n",
    "    printimg(truthlst[i])\n",
    "    print('loss'+' is: '+str(loslst[i]))\n"
   ]
  }
 ],
 "metadata": {
  "kernelspec": {
   "display_name": "Python 3.8.13 ('Capstone_PT_GPU')",
   "language": "python",
   "name": "python3"
  },
  "language_info": {
   "codemirror_mode": {
    "name": "ipython",
    "version": 3
   },
   "file_extension": ".py",
   "mimetype": "text/x-python",
   "name": "python",
   "nbconvert_exporter": "python",
   "pygments_lexer": "ipython3",
   "version": "3.8.13"
  },
  "orig_nbformat": 4,
  "vscode": {
   "interpreter": {
    "hash": "ce89fff256e2b01b219fb097ff4d66b851bc46b3fb44dc55e5dbbd83ddc0c9c1"
   }
  }
 },
 "nbformat": 4,
 "nbformat_minor": 2
}
